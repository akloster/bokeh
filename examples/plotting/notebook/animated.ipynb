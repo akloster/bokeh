{
 "cells": [
  {
   "cell_type": "code",
   "execution_count": null,
   "metadata": {
    "collapsed": false
   },
   "outputs": [],
   "source": [
    "import bokeh\n",
    "import bokeh.plotting\n",
    "import bokeh.resources\n",
    "import numpy as np\n",
    "from bokeh.plotting import cursession, figure, show, output_notebook, JupyterAnimationWidget"
   ]
  },
  {
   "cell_type": "code",
   "execution_count": null,
   "metadata": {
    "collapsed": false
   },
   "outputs": [],
   "source": [
    "import time\n",
    "from numpy import pi, cos, sin, linspace, roll, zeros_like\n",
    "from bokeh.plotting import cursession, figure, show, output_notebook"
   ]
  },
  {
   "cell_type": "code",
   "execution_count": null,
   "metadata": {
    "collapsed": false
   },
   "outputs": [],
   "source": [
    "N = 50 + 1\n",
    "r_base = 8\n",
    "theta = np.linspace(0, 2*np.pi, N)\n",
    "r_x = np.linspace(0, 6*np.pi, N-1)\n",
    "rmin = r_base - np.cos(r_x) - 1\n",
    "rmax = r_base + np.sin(r_x) + 1\n",
    "colors = [\n",
    "    \"FFFFCC\", \"#C7E9B4\", \"#7FCDBB\", \"#41B6C4\", \"#2C7FB8\", \n",
    "    \"#253494\", \"#2C7FB8\", \"#41B6C4\", \"#7FCDBB\", \"#C7E9B4\"\n",
    "] * 5\n",
    "cx = cy = np.zeros_like(rmin)"
   ]
  },
  {
   "cell_type": "code",
   "execution_count": null,
   "metadata": {
    "collapsed": false
   },
   "outputs": [],
   "source": [
    "#output_notebook()\n",
    "bokeh.plotting.output_notebook(resources=bokeh.resources.INLINE_DEV)"
   ]
  },
  {
   "cell_type": "code",
   "execution_count": null,
   "metadata": {
    "collapsed": true
   },
   "outputs": [],
   "source": [
    "animation = JupyterAnimationWidget()\n",
    "animation"
   ]
  },
  {
   "cell_type": "code",
   "execution_count": null,
   "metadata": {
    "collapsed": false
   },
   "outputs": [],
   "source": [
    "p = figure(x_range=[-11, 11], y_range=[-11, 11])"
   ]
  },
  {
   "cell_type": "code",
   "execution_count": null,
   "metadata": {
    "collapsed": false
   },
   "outputs": [],
   "source": [
    "p.annular_wedge(cx, cy, rmin, rmax, theta[:-1], theta[1:],\n",
    "                fill_color = colors, line_color=\"black\", name=\"aw\")"
   ]
  },
  {
   "cell_type": "code",
   "execution_count": null,
   "metadata": {
    "collapsed": false
   },
   "outputs": [],
   "source": [
    "renderer = p.select(dict(name=\"aw\"))[0]\n",
    "ds = renderer.data_source\n",
    "show(p)\n",
    "while True:\n",
    "    rmin = ds.data[\"inner_radius\"]\n",
    "    rmin = np.roll(rmin, 1)\n",
    "    ds.data[\"inner_radius\"] = rmin\n",
    "    \n",
    "    rmax = ds.data[\"outer_radius\"]\n",
    "    rmax = np.roll(rmax, -1)\n",
    "    ds.data[\"outer_radius\"] = rmax\n",
    "    animation.replace_bokeh_data_source(ds)\n",
    "    \n",
    "    time.sleep(.10)"
   ]
  }
 ],
 "metadata": {
  "kernelspec": {
   "display_name": "Python 3",
   "language": "python",
   "name": "python3"
  },
  "language_info": {
   "codemirror_mode": {
    "name": "ipython",
    "version": 3
   },
   "file_extension": ".py",
   "mimetype": "text/x-python",
   "name": "python",
   "nbconvert_exporter": "python",
   "pygments_lexer": "ipython3",
   "version": "3.4.3"
  }
 },
 "nbformat": 4,
 "nbformat_minor": 0
}
